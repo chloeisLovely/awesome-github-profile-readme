{
  "nbformat": 4,
  "nbformat_minor": 0,
  "metadata": {
    "colab": {
      "provenance": [],
      "authorship_tag": "ABX9TyOHfQlVk2+5Y+OjcONahIcm",
      "include_colab_link": true
    },
    "kernelspec": {
      "name": "python3",
      "display_name": "Python 3"
    },
    "language_info": {
      "name": "python"
    }
  },
  "cells": [
    {
      "cell_type": "markdown",
      "metadata": {
        "id": "view-in-github",
        "colab_type": "text"
      },
      "source": [
        "<a href=\"https://colab.research.google.com/github/chloeisLovely/awesome-github-profile-readme/blob/master/Writing_streamlit_app_py.ipynb\" target=\"_parent\"><img src=\"https://colab.research.google.com/assets/colab-badge.svg\" alt=\"Open In Colab\"/></a>"
      ]
    },
    {
      "cell_type": "code",
      "execution_count": 1,
      "metadata": {
        "colab": {
          "base_uri": "https://localhost:8080/"
        },
        "id": "0xxqMujLF6LP",
        "outputId": "366e58f3-056e-4144-aefe-d0fc24e6b8c1"
      },
      "outputs": [
        {
          "output_type": "stream",
          "name": "stdout",
          "text": [
            "Writing streamlit_app.py\n"
          ]
        }
      ],
      "source": [
        "%%writefile streamlit_app.py\n",
        "import streamlit as st\n",
        "import pandas as pd\n",
        "import plotly.express as px\n",
        "import joblib\n",
        "\n",
        "st.title(\"🎈 코랩에서 만드는 나만의 대시보드\")\n",
        "\n",
        "# 1. 데이터 업로드\n",
        "uploaded_file = st.file_uploader(\"CSV 파일을 업로드하세요.\", type=[\"csv\"])\n",
        "if uploaded_file:\n",
        "    df = pd.read_csv(uploaded_file)\n",
        "    st.session_state['data'] = df\n",
        "    st.write('데이터 미리보기:')\n",
        "    st.dataframe(df)\n",
        "\n",
        "    # 2. Plotly로 인터랙티브 시각화\n",
        "    st.subheader('📊 Plotly 인터랙티브 그래프')\n",
        "    x = st.selectbox('X축 선택', df.columns)\n",
        "    y = st.selectbox('Y축 선택', df.columns)\n",
        "    color = st.selectbox('컬러 그룹 선택', df.columns)\n",
        "\n",
        "    fig = px.scatter(df, x=x, y=y, color=color, hover_data=df.columns)\n",
        "    st.plotly_chart(fig)\n",
        "\n",
        "    # 3. AI 모델 학습 (Linear Regression)\n",
        "    st.subheader('🤖 모델 학습 및 저장')\n",
        "    target = st.selectbox('타겟 컬럼 (예측 대상)', df.columns)\n",
        "    features = st.multiselect('특징 컬럼들 (입력 변수)', [col for col in df.columns if col != target])\n",
        "\n",
        "    if st.button('모델 학습하기'):\n",
        "        from sklearn.linear_model import LinearRegression\n",
        "        model = LinearRegression()\n",
        "        X = df[features]\n",
        "        y = df[target]\n",
        "        model.fit(X, y)\n",
        "        joblib.dump(model, 'model.pkl')\n",
        "        st.success('모델 학습 및 저장 완료!')\n",
        "\n",
        "    # 4. 사용자 입력 → 직접 예측하기\n",
        "    st.subheader('🧑‍💻 직접 입력해서 예측하기')\n",
        "    input_data = {}\n",
        "    for feature in features:\n",
        "        input_data[feature] = st.number_input(f'{feature} 입력값', value=0.0)\n",
        "\n",
        "    if st.button('예측하기'):\n",
        "        model = joblib.load('model.pkl')\n",
        "        input_df = pd.DataFrame([input_data])\n",
        "        prediction = model.predict(input_df)\n",
        "        st.success(f'예측 결과: {prediction[0]}')\n",
        "\n",
        "    # 5. 데이터 및 예측 결과 다운로드\n",
        "    st.subheader('⬇️ 데이터 다운로드')\n",
        "    csv = df.to_csv(index=False).encode('utf-8-sig')\n",
        "    st.download_button(\n",
        "        label=\"현재 데이터 CSV 다운로드\",\n",
        "        data=csv,\n",
        "        file_name='다운로드된_데이터.csv',\n",
        "        mime='text/csv',\n",
        "    )"
      ]
    }
  ]
}